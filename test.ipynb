{
 "cells": [
  {
   "cell_type": "markdown",
   "metadata": {},
   "source": [
    "### Import modules and determine file paths"
   ]
  },
  {
   "cell_type": "code",
   "execution_count": 1,
   "metadata": {},
   "outputs": [],
   "source": [
    "import os\n",
    "from pdig import doc_to_img, img_to_txt\n",
    "\n",
    "pdf_dir = \"pdf docs\"\n",
    "img_dir = \"image docs\"\n",
    "txt_dir = \"extracted data\"\n",
    "\n",
    "current_dir = os.getcwd()\n",
    "pdf_dir = os.path.join(current_dir, pdf_dir)\n",
    "pdf_path = os.path.join(pdf_dir, \"Attention is all you need.pdf\")\n",
    "img_out_dir = os.path.join(current_dir, img_dir)\n",
    "txt_out_dir = os.path.join(current_dir, txt_dir)\n"
   ]
  },
  {
   "cell_type": "markdown",
   "metadata": {},
   "source": [
    "### Convert the pages from the example pdf file to png images"
   ]
  },
  {
   "cell_type": "code",
   "execution_count": null,
   "metadata": {},
   "outputs": [
    {
     "name": "stdout",
     "output_type": "stream",
     "text": [
      "PDF Attention is all you need converted to images and saved in image docs dir\n"
     ]
    }
   ],
   "source": [
    "doc_to_img.pdf_to_png(pdf_path=pdf_path, output_dir=img_out_dir)"
   ]
  },
  {
   "cell_type": "markdown",
   "metadata": {},
   "source": [
    "### Use openai api to extract textual data from image docs and convert to markdown format."
   ]
  },
  {
   "cell_type": "code",
   "execution_count": 2,
   "metadata": {},
   "outputs": [
    {
     "name": "stdout",
     "output_type": "stream",
     "text": [
      "Text extracted from images in Attention is all you need and saved in c:\\Users\\ralis\\OneDrive - Florida State University\\FSU assignments and projects\\LLM in civil engineering - Term project\\paper-digest\\extracted data\\Attention is all you need.txt\n"
     ]
    }
   ],
   "source": [
    "img_dir_name = \"Attention is all you need\"\n",
    "img_in_dir = os.path.join(img_dir, img_dir_name) \n",
    "img_to_txt.extract_doc_txt(image_doc_path=img_in_dir, output_dir=txt_out_dir)"
   ]
  },
  {
   "cell_type": "markdown",
   "metadata": {},
   "source": [
    "### Convert the example civil engineering paper."
   ]
  },
  {
   "cell_type": "code",
   "execution_count": 2,
   "metadata": {},
   "outputs": [
    {
     "name": "stdout",
     "output_type": "stream",
     "text": [
      "PDF Engineering Structures example paper converted to images and saved in image docs dir\n"
     ]
    }
   ],
   "source": [
    "pdf_path = os.path.join(pdf_dir, \"Engineering Structures example paper.pdf\")\n",
    "doc_to_img.pdf_to_png(pdf_path=pdf_path, output_dir=img_out_dir)"
   ]
  },
  {
   "cell_type": "code",
   "execution_count": 3,
   "metadata": {},
   "outputs": [
    {
     "name": "stdout",
     "output_type": "stream",
     "text": [
      "Text extracted from images in Engineering Structures example paper and saved in c:\\Users\\ralis\\OneDrive - Florida State University\\FSU assignments and projects\\LLM in civil engineering - Term project\\paper-digest\\extracted data\\Engineering Structures example paper.txt\n"
     ]
    }
   ],
   "source": [
    "img_dir_name = \"Engineering Structures example paper\"\n",
    "img_in_dir = os.path.join(img_dir, img_dir_name) \n",
    "img_to_txt.extract_doc_txt(image_doc_path=img_in_dir, output_dir=txt_out_dir)"
   ]
  },
  {
   "cell_type": "code",
   "execution_count": null,
   "metadata": {},
   "outputs": [],
   "source": []
  }
 ],
 "metadata": {
  "kernelspec": {
   "display_name": "TorchGPU_P312",
   "language": "python",
   "name": "python3"
  },
  "language_info": {
   "codemirror_mode": {
    "name": "ipython",
    "version": 3
   },
   "file_extension": ".py",
   "mimetype": "text/x-python",
   "name": "python",
   "nbconvert_exporter": "python",
   "pygments_lexer": "ipython3",
   "version": "3.12.7"
  }
 },
 "nbformat": 4,
 "nbformat_minor": 2
}
